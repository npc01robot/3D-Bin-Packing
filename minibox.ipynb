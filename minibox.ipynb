{
 "cells": [
  {
   "cell_type": "code",
   "execution_count": 1,
   "id": "initial_id",
   "metadata": {
    "collapsed": true,
    "ExecuteTime": {
     "end_time": "2024-04-03T06:30:22.332284500Z",
     "start_time": "2024-04-03T06:30:22.327852600Z"
    }
   },
   "outputs": [],
   "source": [
    "boxes = [(13, 7, 2), (5, 5, 2), (7, 3, 2), (6, 5, 3), (5, 3, 1)]"
   ]
  },
  {
   "cell_type": "code",
   "outputs": [],
   "source": [
    "class Box:\n",
    "    def __init__(self, w, h, d):\n",
    "        self.w = w\n",
    "        self.h = h\n",
    "        self.d = d\n",
    "        self.volume = w * h * d\n",
    "        self.x_area = w * d # x-y plane\n",
    "        self.y_area = h * d # x-z plane\n",
    "        self.z_area = w * h # y-z plane\n",
    "    \n",
    "box_list = [Box(*box) for box in boxes]   "
   ],
   "metadata": {
    "collapsed": false,
    "ExecuteTime": {
     "end_time": "2024-04-03T06:34:05.428925600Z",
     "start_time": "2024-04-03T06:34:05.421605400Z"
    }
   },
   "id": "6a4e87f6f63bd6d7",
   "execution_count": 2
  },
  {
   "cell_type": "code",
   "outputs": [],
   "source": [
    "total_volume = sum(box.volume for box in box_list)"
   ],
   "metadata": {
    "collapsed": false,
    "ExecuteTime": {
     "end_time": "2024-04-03T07:47:18.793524800Z",
     "start_time": "2024-04-03T07:47:18.790193800Z"
    }
   },
   "id": "6d6c5b35e94f2955",
   "execution_count": 5
  },
  {
   "cell_type": "code",
   "outputs": [],
   "source": [
    "import math\n",
    "\n",
    "target_volume = math.ceil(total_volume**(1/3))"
   ],
   "metadata": {
    "collapsed": false,
    "ExecuteTime": {
     "end_time": "2024-04-03T07:49:56.525842600Z",
     "start_time": "2024-04-03T07:49:56.522376800Z"
    }
   },
   "id": "948090362790105e",
   "execution_count": 14
  },
  {
   "cell_type": "code",
   "outputs": [
    {
     "name": "stdout",
     "output_type": "stream",
     "text": [
      "13*7*3: 273\n",
      "13*7*4: 364\n",
      "13*7*5: 455\n",
      "13*7*6: 546\n",
      "13*7*7: 637\n"
     ]
    }
   ],
   "source": [
    "for i in range(7,8):\n",
    "    for j in range(3,8):\n",
    "        print(f\"13*{i}*{j}:\",13*i*j)"
   ],
   "metadata": {
    "collapsed": false,
    "ExecuteTime": {
     "end_time": "2024-04-03T07:52:17.314839700Z",
     "start_time": "2024-04-03T07:52:17.310117300Z"
    }
   },
   "id": "289d27c935639696",
   "execution_count": 18
  },
  {
   "cell_type": "code",
   "outputs": [
    {
     "data": {
      "text/plain": "379"
     },
     "execution_count": 16,
     "metadata": {},
     "output_type": "execute_result"
    }
   ],
   "source": [
    "total_volume"
   ],
   "metadata": {
    "collapsed": false,
    "ExecuteTime": {
     "end_time": "2024-04-03T07:49:58.112759500Z",
     "start_time": "2024-04-03T07:49:58.106100800Z"
    }
   },
   "id": "64728236412895c4",
   "execution_count": 16
  },
  {
   "cell_type": "code",
   "outputs": [],
   "source": [],
   "metadata": {
    "collapsed": false
   },
   "id": "28c8324230d0e458"
  }
 ],
 "metadata": {
  "kernelspec": {
   "display_name": "Python 3",
   "language": "python",
   "name": "python3"
  },
  "language_info": {
   "codemirror_mode": {
    "name": "ipython",
    "version": 2
   },
   "file_extension": ".py",
   "mimetype": "text/x-python",
   "name": "python",
   "nbconvert_exporter": "python",
   "pygments_lexer": "ipython2",
   "version": "2.7.6"
  }
 },
 "nbformat": 4,
 "nbformat_minor": 5
}
